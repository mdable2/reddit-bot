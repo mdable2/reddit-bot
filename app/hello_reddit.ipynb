{
 "cells": [
  {
   "cell_type": "code",
   "execution_count": 24,
   "metadata": {},
   "outputs": [],
   "source": [
    "import praw\n",
    "from transformers import AutoTokenizer, AutoModelForSequenceClassification, pipeline\n",
    "import torch\n",
    "import pandas as pd\n",
    "import datetime\n",
    "\n",
    "import secrets\n",
    "import config"
   ]
  },
  {
   "cell_type": "code",
   "execution_count": 2,
   "metadata": {},
   "outputs": [
    {
     "name": "stderr",
     "output_type": "stream",
     "text": [
      "No model was supplied, defaulted to distilbert-base-uncased-finetuned-sst-2-english (https://huggingface.co/distilbert-base-uncased-finetuned-sst-2-english)\n"
     ]
    }
   ],
   "source": [
    "news_tokenizer = AutoTokenizer.from_pretrained(config.HF_TOKENIZER_NEWS_CLASSIFIER)\n",
    "news_model = AutoModelForSequenceClassification.from_pretrained(config.HF_MODEL_NEWS_CLASSIFIER)\n",
    "sentiment_model = pipeline(\"sentiment-analysis\")"
   ]
  },
  {
   "cell_type": "code",
   "execution_count": 3,
   "metadata": {},
   "outputs": [],
   "source": [
    "reddit = praw.Reddit(\n",
    "    client_id=secrets.REDDIT_API_CLIENT_ID,\n",
    "    client_secret=secrets.REDDIT_API_CLIENT_SECRET,\n",
    "    user_agent=secrets.REDDIT_API_USER_AGENT\n",
    ")\n",
    "subreddit = reddit.subreddit(config.SUBREDDITS)"
   ]
  },
  {
   "cell_type": "code",
   "execution_count": 4,
   "metadata": {},
   "outputs": [
    {
     "data": {
      "text/plain": [
       "True"
      ]
     },
     "execution_count": 4,
     "metadata": {},
     "output_type": "execute_result"
    }
   ],
   "source": [
    "reddit.read_only"
   ]
  },
  {
   "cell_type": "code",
   "execution_count": 5,
   "metadata": {},
   "outputs": [],
   "source": [
    "submissions = []\n",
    "\n",
    "for submission in subreddit.stream.submissions():\n",
    "    submissions.append(submission)\n",
    "    if len(submissions) > config.NUM_SUBMISSION_TO_GET:\n",
    "        break"
   ]
  },
  {
   "cell_type": "code",
   "execution_count": 28,
   "metadata": {},
   "outputs": [],
   "source": [
    "class RedditSubmission():\n",
    "    subreddit: str\n",
    "    title: str\n",
    "    time_created: datetime.datetime\n",
    "    author: str\n",
    "    inference_subject: str\n",
    "    inference_sentiment: str\n",
    "\n",
    "    def __init__(self, subreddit: str, title: str, time_created: str, author: str, inference_subject: str = None, inference_sentiment: str = None):\n",
    "        self.subreddit = subreddit\n",
    "        self.title = title\n",
    "        self.time_created = self.convert_time_to_datetime(time_created)\n",
    "        self.author = author\n",
    "        self.inference_subject = self.run_subject_analysis()\n",
    "        self.inference_sentiment = self.run_sentiment_analysis()\n",
    "\n",
    "    def convert_time_to_datetime(self, time_created) -> datetime.datetime:\n",
    "        dt = datetime.datetime.fromtimestamp(time_created)\n",
    "        return dt\n",
    "\n",
    "    def map_news_output_to_class(self, inference_output: torch.Tensor) -> str:\n",
    "        softmax_values = []\n",
    "        for output in inference_output:\n",
    "            softmax_values.append(output.item())\n",
    "        max_value = max(softmax_values)\n",
    "        max_index = softmax_values.index(max_value)\n",
    "        return config.NEWS_CLASSES[max_index]\n",
    "    \n",
    "    def run_subject_analysis(self) -> str:\n",
    "        inputs = news_tokenizer(self.title, return_tensors=\"pt\")\n",
    "        labels = torch.tensor([1]).unsqueeze(0) # Batch size of 1\n",
    "        outputs = news_model(**inputs, labels=labels) # Unpack key-value pairs into keyword args in function call\n",
    "        news_subject = self.map_news_output_to_class(outputs.logits[0]) # Taking softmax tensor from inference\n",
    "        return news_subject\n",
    "\n",
    "    def run_sentiment_analysis(self) -> str:\n",
    "        sentiment = sentiment_model(self.title)\n",
    "        return sentiment[0][\"label\"]"
   ]
  },
  {
   "cell_type": "code",
   "execution_count": 29,
   "metadata": {},
   "outputs": [],
   "source": [
    "reddit_submission_objects = []\n",
    "\n",
    "for submission in submissions:\n",
    "    s = RedditSubmission(submission.subreddit, submission.title, submission.created_utc, submission.author)\n",
    "    reddit_submission_objects.append(s)"
   ]
  },
  {
   "cell_type": "code",
   "execution_count": 30,
   "metadata": {},
   "outputs": [
    {
     "data": {
      "text/html": [
       "<div>\n",
       "<style scoped>\n",
       "    .dataframe tbody tr th:only-of-type {\n",
       "        vertical-align: middle;\n",
       "    }\n",
       "\n",
       "    .dataframe tbody tr th {\n",
       "        vertical-align: top;\n",
       "    }\n",
       "\n",
       "    .dataframe thead th {\n",
       "        text-align: right;\n",
       "    }\n",
       "</style>\n",
       "<table border=\"1\" class=\"dataframe\">\n",
       "  <thead>\n",
       "    <tr style=\"text-align: right;\">\n",
       "      <th></th>\n",
       "      <th>subreddit</th>\n",
       "      <th>title</th>\n",
       "      <th>time_created</th>\n",
       "      <th>author</th>\n",
       "      <th>inference_subject</th>\n",
       "      <th>inference_sentiment</th>\n",
       "    </tr>\n",
       "  </thead>\n",
       "  <tbody>\n",
       "    <tr>\n",
       "      <th>0</th>\n",
       "      <td>news</td>\n",
       "      <td>U.S. home sales tumble; higher prices, mortgag...</td>\n",
       "      <td>2022-03-20 16:16:49</td>\n",
       "      <td>Whichwhenwhywhat</td>\n",
       "      <td>business</td>\n",
       "      <td>NEGATIVE</td>\n",
       "    </tr>\n",
       "    <tr>\n",
       "      <th>1</th>\n",
       "      <td>news</td>\n",
       "      <td>A Tennessee police officer fired his stun gun ...</td>\n",
       "      <td>2022-03-20 17:12:50</td>\n",
       "      <td>TheSwaguar</td>\n",
       "      <td>world</td>\n",
       "      <td>NEGATIVE</td>\n",
       "    </tr>\n",
       "    <tr>\n",
       "      <th>2</th>\n",
       "      <td>news</td>\n",
       "      <td>Chipotle Tests Tortilla Frying Robot to Make I...</td>\n",
       "      <td>2022-03-20 17:17:37</td>\n",
       "      <td>Double-Anteater228</td>\n",
       "      <td>sci/tech</td>\n",
       "      <td>NEGATIVE</td>\n",
       "    </tr>\n",
       "    <tr>\n",
       "      <th>3</th>\n",
       "      <td>news</td>\n",
       "      <td>David Beckham hands Instagram account to Ukrai...</td>\n",
       "      <td>2022-03-20 17:52:36</td>\n",
       "      <td>ILOVEMCU</td>\n",
       "      <td>world</td>\n",
       "      <td>NEGATIVE</td>\n",
       "    </tr>\n",
       "    <tr>\n",
       "      <th>4</th>\n",
       "      <td>news</td>\n",
       "      <td>CEO of B.C. resort on leave after sexist remar...</td>\n",
       "      <td>2022-03-20 18:11:07</td>\n",
       "      <td>MarseyTheCat</td>\n",
       "      <td>sci/tech</td>\n",
       "      <td>NEGATIVE</td>\n",
       "    </tr>\n",
       "    <tr>\n",
       "      <th>5</th>\n",
       "      <td>news</td>\n",
       "      <td>Justice Clarence Thomas hospitalized with 'flu...</td>\n",
       "      <td>2022-03-20 18:20:24</td>\n",
       "      <td>slade797</td>\n",
       "      <td>world</td>\n",
       "      <td>NEGATIVE</td>\n",
       "    </tr>\n",
       "    <tr>\n",
       "      <th>6</th>\n",
       "      <td>news</td>\n",
       "      <td>Russia demands Mariupol lay down arms but Ukra...</td>\n",
       "      <td>2022-03-20 21:00:22</td>\n",
       "      <td>Oldmanwaffle</td>\n",
       "      <td>world</td>\n",
       "      <td>NEGATIVE</td>\n",
       "    </tr>\n",
       "    <tr>\n",
       "      <th>7</th>\n",
       "      <td>news</td>\n",
       "      <td>Mariupol: Ukraine rejects Russian offer to sur...</td>\n",
       "      <td>2022-03-20 21:15:30</td>\n",
       "      <td>MakeItSo4692</td>\n",
       "      <td>world</td>\n",
       "      <td>POSITIVE</td>\n",
       "    </tr>\n",
       "    <tr>\n",
       "      <th>8</th>\n",
       "      <td>news</td>\n",
       "      <td>Australia to make Big Tech hand over misinform...</td>\n",
       "      <td>2022-03-20 21:33:58</td>\n",
       "      <td>psgia</td>\n",
       "      <td>sci/tech</td>\n",
       "      <td>NEGATIVE</td>\n",
       "    </tr>\n",
       "    <tr>\n",
       "      <th>9</th>\n",
       "      <td>news</td>\n",
       "      <td>Ammonia leak reported at chemicals plant in Uk...</td>\n",
       "      <td>2022-03-20 22:38:22</td>\n",
       "      <td>MinaFur</td>\n",
       "      <td>world</td>\n",
       "      <td>NEGATIVE</td>\n",
       "    </tr>\n",
       "    <tr>\n",
       "      <th>10</th>\n",
       "      <td>news</td>\n",
       "      <td>US decries ‘disturbing’ accounts of Ukrainians...</td>\n",
       "      <td>2022-03-21 00:05:32</td>\n",
       "      <td>bretsko</td>\n",
       "      <td>world</td>\n",
       "      <td>NEGATIVE</td>\n",
       "    </tr>\n",
       "  </tbody>\n",
       "</table>\n",
       "</div>"
      ],
      "text/plain": [
       "   subreddit                                              title  \\\n",
       "0       news  U.S. home sales tumble; higher prices, mortgag...   \n",
       "1       news  A Tennessee police officer fired his stun gun ...   \n",
       "2       news  Chipotle Tests Tortilla Frying Robot to Make I...   \n",
       "3       news  David Beckham hands Instagram account to Ukrai...   \n",
       "4       news  CEO of B.C. resort on leave after sexist remar...   \n",
       "5       news  Justice Clarence Thomas hospitalized with 'flu...   \n",
       "6       news  Russia demands Mariupol lay down arms but Ukra...   \n",
       "7       news  Mariupol: Ukraine rejects Russian offer to sur...   \n",
       "8       news  Australia to make Big Tech hand over misinform...   \n",
       "9       news  Ammonia leak reported at chemicals plant in Uk...   \n",
       "10      news  US decries ‘disturbing’ accounts of Ukrainians...   \n",
       "\n",
       "          time_created              author inference_subject  \\\n",
       "0  2022-03-20 16:16:49    Whichwhenwhywhat          business   \n",
       "1  2022-03-20 17:12:50          TheSwaguar             world   \n",
       "2  2022-03-20 17:17:37  Double-Anteater228          sci/tech   \n",
       "3  2022-03-20 17:52:36            ILOVEMCU             world   \n",
       "4  2022-03-20 18:11:07        MarseyTheCat          sci/tech   \n",
       "5  2022-03-20 18:20:24            slade797             world   \n",
       "6  2022-03-20 21:00:22        Oldmanwaffle             world   \n",
       "7  2022-03-20 21:15:30        MakeItSo4692             world   \n",
       "8  2022-03-20 21:33:58               psgia          sci/tech   \n",
       "9  2022-03-20 22:38:22             MinaFur             world   \n",
       "10 2022-03-21 00:05:32             bretsko             world   \n",
       "\n",
       "   inference_sentiment  \n",
       "0             NEGATIVE  \n",
       "1             NEGATIVE  \n",
       "2             NEGATIVE  \n",
       "3             NEGATIVE  \n",
       "4             NEGATIVE  \n",
       "5             NEGATIVE  \n",
       "6             NEGATIVE  \n",
       "7             POSITIVE  \n",
       "8             NEGATIVE  \n",
       "9             NEGATIVE  \n",
       "10            NEGATIVE  "
      ]
     },
     "execution_count": 30,
     "metadata": {},
     "output_type": "execute_result"
    }
   ],
   "source": [
    "pd.DataFrame([vars(submission) for submission in reddit_submission_objects])"
   ]
  }
 ],
 "metadata": {
  "interpreter": {
   "hash": "01a2a094bec0d5aaff89379cbf84208a156f58061494f9e711905381aca9e24c"
  },
  "kernelspec": {
   "display_name": "Python 3.8.12 ('reddit-bot')",
   "language": "python",
   "name": "python3"
  },
  "language_info": {
   "codemirror_mode": {
    "name": "ipython",
    "version": 3
   },
   "file_extension": ".py",
   "mimetype": "text/x-python",
   "name": "python",
   "nbconvert_exporter": "python",
   "pygments_lexer": "ipython3",
   "version": "3.8.12"
  },
  "orig_nbformat": 4
 },
 "nbformat": 4,
 "nbformat_minor": 2
}
